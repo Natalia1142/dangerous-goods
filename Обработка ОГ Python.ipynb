{
 "cells": [
  {
   "cell_type": "markdown",
   "id": "26c84cdf",
   "metadata": {},
   "source": [
    "# Анализ задержанных посылок с опасным грузом за месяц"
   ]
  },
  {
   "cell_type": "markdown",
   "id": "9a1dc321",
   "metadata": {},
   "source": [
    "# Предобработка"
   ]
  },
  {
   "cell_type": "markdown",
   "id": "83c66d15",
   "metadata": {},
   "source": [
    "## Загружаем библиотеки"
   ]
  },
  {
   "cell_type": "code",
   "execution_count": 1,
   "id": "8e75d44e",
   "metadata": {},
   "outputs": [],
   "source": [
    "import pandas as pd\n",
    "import matplotlib.pyplot as plt"
   ]
  },
  {
   "cell_type": "code",
   "execution_count": 2,
   "id": "1a11307e",
   "metadata": {},
   "outputs": [],
   "source": [
    "import warnings\n",
    "warnings.filterwarnings('ignore')"
   ]
  },
  {
   "cell_type": "markdown",
   "id": "1ea4d6fc",
   "metadata": {},
   "source": [
    "## Загружаем данные из Москвы"
   ]
  },
  {
   "cell_type": "code",
   "execution_count": 3,
   "id": "ff0b4d87",
   "metadata": {},
   "outputs": [],
   "source": [
    "data_msk=pd.read_excel(\"C:/Users/Natalya/Desktop/Октябрь 2024/ОКТЯБРЬ 2024 Операторы МСК.xlsx\")"
   ]
  },
  {
   "cell_type": "markdown",
   "id": "e2a7fea9",
   "metadata": {},
   "source": [
    "**Так как данные по каждому дню хранятся на разных листах Excel файла, считываем названия листов, чтоб потом их объединить**"
   ]
  },
  {
   "cell_type": "code",
   "execution_count": 4,
   "id": "ad23d880",
   "metadata": {},
   "outputs": [],
   "source": [
    "sheet_names = pd.read_excel(\"C:/Users/Natalya/Desktop/Октябрь 2024/ОКТЯБРЬ 2024 Операторы МСК.xlsx\", sheet_name=None).keys()\n"
   ]
  },
  {
   "cell_type": "code",
   "execution_count": 5,
   "id": "70a48a61",
   "metadata": {},
   "outputs": [
    {
     "data": {
      "text/plain": [
       "dict_keys(['Автозаполнение', 'Не копировать(старый шаблон)', 'Сегодня АХ', 'Шаблон новый', 'ОГ Срочка', 'Лист134', '01.10', '02.10', 'Шаблон ог', 'СЗ', 'Шаблон АХ', '03.10', '04.10', '05.10', '06.10', '07.10', '09.10', '08.10', '10.10', '11.10', '12.10', '13.10', '14.10', '15.10', '16.10', '17.10', '18.10', '19.10', '20.10', '21.10', '22.10', '23.10', '24.10', '25.10', '26.10', '27.10', '28.10', '29.10', '30.10', '31.10', 'ИМ асист', 'Сроки по областям', 'Первичный приход', 'Полки', 'Транзиты', 'Сроки доставки ', 'Сроки доставки эк4', 'Ключевые клиенты', 'Принимает не принимает ОГ', 'Принимает не принимает ОГ 2', 'Шаблон ог с ах', 'АХ 05.07', 'АХ 06.07', 'Кол-во груза', 'Закреплённые менеджеры', 'Проба 2'])"
      ]
     },
     "execution_count": 5,
     "metadata": {},
     "output_type": "execute_result"
    }
   ],
   "source": [
    "sheet_names"
   ]
  },
  {
   "cell_type": "markdown",
   "id": "b2004c39",
   "metadata": {},
   "source": [
    "**Отбираем только нужные для анализа листы и соединяем их в одну базу данных**"
   ]
  },
  {
   "cell_type": "code",
   "execution_count": 6,
   "id": "dae7e812",
   "metadata": {},
   "outputs": [],
   "source": [
    "date_list=[]\n",
    "for i in sheet_names:\n",
    "    if len(i)<6 and i!='Полки' and i!='СЗ':\n",
    "        date_list.append(i)"
   ]
  },
  {
   "cell_type": "code",
   "execution_count": 7,
   "id": "421562de",
   "metadata": {},
   "outputs": [],
   "source": [
    "df_msk = pd.DataFrame() \n",
    "for i in date_list:\n",
    "    sheet_names=pd.read_excel(\"C:/Users/Natalya/Desktop/Октябрь 2024/ОКТЯБРЬ 2024 Операторы МСК.xlsx\", sheet_name=i)\n",
    "    sheet_names['Дата']=i\n",
    "    sheet_names['Склад']=\"Мск\"\n",
    "    df_msk = pd.concat([df_msk, sheet_names]) "
   ]
  },
  {
   "cell_type": "markdown",
   "id": "9502de5d",
   "metadata": {},
   "source": [
    "## Загружаем данные из Санкт-Петербурга, Екатеринбурга и Новосибирска"
   ]
  },
  {
   "cell_type": "code",
   "execution_count": 8,
   "id": "3a29039f",
   "metadata": {},
   "outputs": [],
   "source": [
    "df_spb=pd.read_excel('C:/Users/Natalya/Desktop/Октябрь 2024/Cпб.xlsx',sheet_name='Октябрь 2024')"
   ]
  },
  {
   "cell_type": "code",
   "execution_count": 9,
   "id": "b308e473",
   "metadata": {},
   "outputs": [],
   "source": [
    "df_spb[\"Склад\"]=\"Спб\""
   ]
  },
  {
   "cell_type": "code",
   "execution_count": 10,
   "id": "6687958b",
   "metadata": {},
   "outputs": [],
   "source": [
    "df_ekb=pd.read_excel('C:/Users/Natalya/Desktop/Октябрь 2024/Опасный Груз ЕКБ.xlsx',sheet_name='Октябрь 24')"
   ]
  },
  {
   "cell_type": "code",
   "execution_count": 11,
   "id": "0902d122",
   "metadata": {},
   "outputs": [],
   "source": [
    "df_ekb[\"Склад\"]=\"Екб\""
   ]
  },
  {
   "cell_type": "code",
   "execution_count": 12,
   "id": "9898c739",
   "metadata": {},
   "outputs": [],
   "source": [
    "df_nsk=pd.read_excel(\"C:/Users/Natalya/Desktop/Октябрь 2024/ОГ ОКТЯБРЬ 2024 НОВОСИБИРСК.xlsx\",sheet_name='ОГ ОКТЯБРЬ 2024')"
   ]
  },
  {
   "cell_type": "code",
   "execution_count": 13,
   "id": "dbab771a",
   "metadata": {},
   "outputs": [],
   "source": [
    "df_nsk[\"Склад\"]=\"Нск\""
   ]
  },
  {
   "cell_type": "code",
   "execution_count": 14,
   "id": "906e9d8a",
   "metadata": {},
   "outputs": [],
   "source": [
    "list_df=[df_msk,df_spb,df_nsk,df_ekb]"
   ]
  },
  {
   "cell_type": "markdown",
   "id": "1c18a90c",
   "metadata": {},
   "source": [
    "## Изучаем общую информацию, удаляем ненужные столбцы и переименовываем часть столбцов, чтобы в дальнейшем соединить данные из таблиц разных городов."
   ]
  },
  {
   "cell_type": "markdown",
   "id": "d8fbdd33",
   "metadata": {},
   "source": [
    "**Изучаем данные из Москвы**"
   ]
  },
  {
   "cell_type": "code",
   "execution_count": 15,
   "id": "cdfbe243",
   "metadata": {},
   "outputs": [
    {
     "name": "stdout",
     "output_type": "stream",
     "text": [
      "<class 'pandas.core.frame.DataFrame'>\n",
      "Index: 25830 entries, 0 to 528\n",
      "Data columns (total 20 columns):\n",
      " #   Column                   Non-Null Count  Dtype  \n",
      "---  ------                   --------------  -----  \n",
      " 0   Unnamed: 0               25829 non-null  object \n",
      " 1   Номер заказа             4983 non-null   float64\n",
      " 2   Адресное хранение        22640 non-null  object \n",
      " 3   Причина задержки         16687 non-null  object \n",
      " 4   Описание вложения        16721 non-null  object \n",
      " 5   Ссылка на фото           16722 non-null  object \n",
      " 6   Плательщик               4983 non-null   object \n",
      " 7   Город владельца выручки  4983 non-null   object \n",
      " 8   Готовое СЗ               17536 non-null  object \n",
      " 9   Город получателя         4983 non-null   object \n",
      " 10  Первичный приход         5223 non-null   object \n",
      " 11  срок доставки            4930 non-null   float64\n",
      " 12  ШК места                 4983 non-null   object \n",
      " 13  Вес к оплате, кг         4983 non-null   float64\n",
      " 14  вспомогательно1          17558 non-null  object \n",
      " 15  вспомогательно2          0 non-null      float64\n",
      " 16  вспомогательно3          0 non-null      float64\n",
      " 17  вспомогательно4          0 non-null      float64\n",
      " 18  Дата                     25830 non-null  object \n",
      " 19  Склад                    25830 non-null  object \n",
      "dtypes: float64(6), object(14)\n",
      "memory usage: 4.1+ MB\n"
     ]
    }
   ],
   "source": [
    "df_msk.info()"
   ]
  },
  {
   "cell_type": "markdown",
   "id": "193206c6",
   "metadata": {},
   "source": [
    "**Удаляем столбцы, которые нам дальше не понадобятся. Несколько столбцов переименовываем**"
   ]
  },
  {
   "cell_type": "code",
   "execution_count": 16,
   "id": "3f060371",
   "metadata": {},
   "outputs": [],
   "source": [
    "df_msk.drop(['Unnamed: 0','Адресное хранение','Ссылка на фото','Город владельца выручки',\n",
    "                            'Готовое СЗ ','срок доставки','вспомогательно1', 'вспомогательно2',\n",
    "                            'вспомогательно3','вспомогательно4','Город получателя','Дата'], axis=1, inplace=True)"
   ]
  },
  {
   "cell_type": "code",
   "execution_count": 17,
   "id": "cd1f9b83",
   "metadata": {},
   "outputs": [],
   "source": [
    "df_msk.rename(columns = {'Номер заказа':'Накладная', 'ШК места':'Количество мест','Вес к оплате, кг':'Общий вес',\n",
    "                        'Первичный приход':'Подразделение','Плательщик':'Клиент'}, inplace = True )"
   ]
  },
  {
   "cell_type": "code",
   "execution_count": 18,
   "id": "b5219eeb",
   "metadata": {},
   "outputs": [],
   "source": [
    "df_msk=df_msk[['Склад','Накладная','Описание вложения','Причина задержки','Подразделение','Клиент','Общий вес']]"
   ]
  },
  {
   "cell_type": "markdown",
   "id": "97312982",
   "metadata": {},
   "source": [
    "**Изучаем данные из Санкт-Петербурга**"
   ]
  },
  {
   "cell_type": "code",
   "execution_count": 19,
   "id": "78dbe5e6",
   "metadata": {},
   "outputs": [
    {
     "name": "stdout",
     "output_type": "stream",
     "text": [
      "<class 'pandas.core.frame.DataFrame'>\n",
      "RangeIndex: 954 entries, 0 to 953\n",
      "Data columns (total 8 columns):\n",
      " #   Column             Non-Null Count  Dtype \n",
      "---  ------             --------------  ----- \n",
      " 0   № накладной        954 non-null    int64 \n",
      " 1   Причина задержки   954 non-null    object\n",
      " 2   Описание вложения  954 non-null    object\n",
      " 3   Плательщик         954 non-null    object\n",
      " 4   Подразделение      954 non-null    object\n",
      " 5   ШК места           954 non-null    object\n",
      " 6   Вес к оплате, кг   954 non-null    object\n",
      " 7   Склад              954 non-null    object\n",
      "dtypes: int64(1), object(7)\n",
      "memory usage: 59.8+ KB\n"
     ]
    }
   ],
   "source": [
    "df_spb.info()"
   ]
  },
  {
   "cell_type": "code",
   "execution_count": 20,
   "id": "e0492adc",
   "metadata": {},
   "outputs": [],
   "source": [
    "df_spb.rename(columns = {'№ накладной':'Накладная', 'ШК места':'Количество мест','Вес к оплате, кг':'Общий вес','Плательщик':'Клиент'}, inplace = True )"
   ]
  },
  {
   "cell_type": "code",
   "execution_count": 21,
   "id": "3538f215",
   "metadata": {},
   "outputs": [],
   "source": [
    "df_spb=df_spb[['Склад','Накладная','Описание вложения','Причина задержки','Подразделение','Клиент','Общий вес']]"
   ]
  },
  {
   "cell_type": "markdown",
   "id": "4fb94c68",
   "metadata": {},
   "source": [
    "**Изучаем данные из Новосибирска**"
   ]
  },
  {
   "cell_type": "code",
   "execution_count": 22,
   "id": "15b25c20",
   "metadata": {},
   "outputs": [
    {
     "name": "stdout",
     "output_type": "stream",
     "text": [
      "<class 'pandas.core.frame.DataFrame'>\n",
      "RangeIndex: 104 entries, 0 to 103\n",
      "Data columns (total 8 columns):\n",
      " #   Column             Non-Null Count  Dtype \n",
      "---  ------             --------------  ----- \n",
      " 0   № накладной        104 non-null    int64 \n",
      " 1   Причина задержки   104 non-null    object\n",
      " 2   Описание вложения  102 non-null    object\n",
      " 3   Плательщик         104 non-null    object\n",
      " 4   Подразделение      104 non-null    object\n",
      " 5   ШК места           104 non-null    object\n",
      " 6   Вес к оплате, кг   104 non-null    object\n",
      " 7   Склад              104 non-null    object\n",
      "dtypes: int64(1), object(7)\n",
      "memory usage: 6.6+ KB\n"
     ]
    }
   ],
   "source": [
    "df_nsk.info()"
   ]
  },
  {
   "cell_type": "code",
   "execution_count": 23,
   "id": "dbd830ef",
   "metadata": {},
   "outputs": [],
   "source": [
    "df_nsk.rename(columns = {'№ накладной':'Накладная', 'ШК места':'Количество мест','Вес к оплате, кг':'Общий вес','Плательщик':'Клиент'}, inplace = True )"
   ]
  },
  {
   "cell_type": "code",
   "execution_count": 24,
   "id": "1817f2be",
   "metadata": {},
   "outputs": [],
   "source": [
    "df_nsk=df_nsk[['Склад','Накладная','Описание вложения','Причина задержки','Подразделение','Клиент','Общий вес']]"
   ]
  },
  {
   "cell_type": "markdown",
   "id": "abee9ecc",
   "metadata": {},
   "source": [
    "**Изучаем данные из Екатеринбурга**"
   ]
  },
  {
   "cell_type": "code",
   "execution_count": 25,
   "id": "6a01edf4",
   "metadata": {},
   "outputs": [
    {
     "name": "stdout",
     "output_type": "stream",
     "text": [
      "<class 'pandas.core.frame.DataFrame'>\n",
      "RangeIndex: 63 entries, 0 to 62\n",
      "Data columns (total 10 columns):\n",
      " #   Column            Non-Null Count  Dtype         \n",
      "---  ------            --------------  -----         \n",
      " 0   Дата              59 non-null     datetime64[ns]\n",
      " 1   Накладная         61 non-null     float64       \n",
      " 2   Вложение          60 non-null     object        \n",
      " 3   Классификация     59 non-null     object        \n",
      " 4   Принявший Офис    59 non-null     object        \n",
      " 5   Название Клиента  59 non-null     object        \n",
      " 6   Общий вес         58 non-null     object        \n",
      " 7   Количество мест   59 non-null     float64       \n",
      " 8   Ссылка на фото    63 non-null     object        \n",
      " 9   Склад             63 non-null     object        \n",
      "dtypes: datetime64[ns](1), float64(2), object(7)\n",
      "memory usage: 5.1+ KB\n"
     ]
    }
   ],
   "source": [
    "df_ekb.info()"
   ]
  },
  {
   "cell_type": "code",
   "execution_count": 26,
   "id": "9fe25ee9",
   "metadata": {},
   "outputs": [],
   "source": [
    "df_ekb.drop(['Дата','Ссылка на фото '], axis=1, inplace=True)"
   ]
  },
  {
   "cell_type": "code",
   "execution_count": 27,
   "id": "b3b88da0",
   "metadata": {},
   "outputs": [],
   "source": [
    "df_ekb.rename(columns = {'Вложение':'Описание вложения', 'Принявший Офис':'Подразделение','Классификация':'Причина задержки'\n",
    "                        ,'Название Клиента':'Клиент'}, inplace = True )"
   ]
  },
  {
   "cell_type": "code",
   "execution_count": 28,
   "id": "3f4ae210",
   "metadata": {},
   "outputs": [],
   "source": [
    "df_ekb=df_ekb[['Склад','Накладная','Описание вложения','Причина задержки','Подразделение','Клиент','Общий вес']]"
   ]
  },
  {
   "cell_type": "markdown",
   "id": "9342c5a0",
   "metadata": {},
   "source": [
    "## Соединяем таблицы из четырех городов в одну"
   ]
  },
  {
   "cell_type": "code",
   "execution_count": 29,
   "id": "0ceab5d2",
   "metadata": {},
   "outputs": [],
   "source": [
    "df_all = pd.concat([df_msk, df_spb, df_nsk, df_ekb]) "
   ]
  },
  {
   "cell_type": "markdown",
   "id": "7ded6f0a",
   "metadata": {},
   "source": [
    "**Изучаем пропущенные значения**"
   ]
  },
  {
   "cell_type": "code",
   "execution_count": 30,
   "id": "0cf05a21",
   "metadata": {},
   "outputs": [
    {
     "data": {
      "text/plain": [
       "Склад                    0\n",
       "Накладная            20849\n",
       "Описание вложения     9114\n",
       "Причина задержки      9147\n",
       "Подразделение        20611\n",
       "Клиент               20851\n",
       "Общий вес            20852\n",
       "dtype: int64"
      ]
     },
     "execution_count": 30,
     "metadata": {},
     "output_type": "execute_result"
    }
   ],
   "source": [
    "df_all.isna().sum()"
   ]
  },
  {
   "cell_type": "markdown",
   "id": "aa6755da",
   "metadata": {},
   "source": [
    "**Обрабатываем пропущенные значения**"
   ]
  },
  {
   "cell_type": "code",
   "execution_count": 31,
   "id": "ac53309a",
   "metadata": {},
   "outputs": [],
   "source": [
    "df_all = df_all.dropna(subset=['Накладная' ,'Клиент'])\n",
    "df_all = df_all.dropna(subset=['Клиент'])\n",
    "df_all = df_all.dropna(subset=['Подразделение'])\n",
    "df_all['Причина задержки'].fillna('нет инфо', inplace=True)\n",
    "df_all['Общий вес'].fillna('нет инфо', inplace=True)"
   ]
  },
  {
   "cell_type": "markdown",
   "id": "5bda8e64",
   "metadata": {},
   "source": [
    "**Удаляем дубликаты**"
   ]
  },
  {
   "cell_type": "code",
   "execution_count": 32,
   "id": "c9a11739",
   "metadata": {},
   "outputs": [],
   "source": [
    "df_all.drop_duplicates(subset=['Накладная',], inplace=True)"
   ]
  },
  {
   "cell_type": "markdown",
   "id": "4e2c7f79",
   "metadata": {},
   "source": [
    "### Присоединяем данные о наличии договора и является подразделение Филиалом или ПВЗ"
   ]
  },
  {
   "cell_type": "code",
   "execution_count": 33,
   "id": "9855a22c",
   "metadata": {},
   "outputs": [],
   "source": [
    "filial=pd.read_excel('C:/Users/Natalya/Desktop/Отчеты по ОГ/Филиалы.xlsx')"
   ]
  },
  {
   "cell_type": "code",
   "execution_count": 34,
   "id": "96eecefd",
   "metadata": {},
   "outputs": [],
   "source": [
    "contract=pd.read_excel(\"C:/Users/Natalya/Desktop/Октябрь 2024/Договоры.xlsx\")"
   ]
  },
  {
   "cell_type": "code",
   "execution_count": 35,
   "id": "c0026853",
   "metadata": {},
   "outputs": [],
   "source": [
    "df_all=df_all.merge(contract, on='Накладная', how='left')"
   ]
  },
  {
   "cell_type": "code",
   "execution_count": 36,
   "id": "9eb770e4",
   "metadata": {},
   "outputs": [],
   "source": [
    "df_all=df_all.merge(filial, on='Подразделение', how='left')"
   ]
  },
  {
   "cell_type": "code",
   "execution_count": 37,
   "id": "b2ba8fe0",
   "metadata": {},
   "outputs": [],
   "source": [
    "df_all['Филиал'].fillna('ПВЗ', inplace=True)"
   ]
  },
  {
   "cell_type": "markdown",
   "id": "695c5125",
   "metadata": {},
   "source": [
    "**Меняем тип данный в столбце Накладная**"
   ]
  },
  {
   "cell_type": "code",
   "execution_count": 38,
   "id": "bc41bb67",
   "metadata": {},
   "outputs": [],
   "source": [
    "df_all['Накладная'] = df_all['Накладная'].astype(str)"
   ]
  },
  {
   "cell_type": "markdown",
   "id": "2dc2e3cd",
   "metadata": {},
   "source": [
    "## Во избежание разглашения конфиденциальной информации, меняем из начальных данных Номер накладной, Клиент, Подразделение."
   ]
  },
  {
   "cell_type": "code",
   "execution_count": 39,
   "id": "fabaeddf",
   "metadata": {},
   "outputs": [],
   "source": [
    "for i in range(len(df_all)):\n",
    "    df_all['Накладная'][i]=df_all['Накладная'][i][:-4]+'****'    "
   ]
  },
  {
   "cell_type": "code",
   "execution_count": 40,
   "id": "3a58454d",
   "metadata": {},
   "outputs": [],
   "source": [
    "new_Подразделение=df_all['Подразделение'].value_counts().sort_index(ascending=True)\n",
    "new_Подразделение=new_Подразделение.reset_index()\n",
    "new_Подразделение['new_Подразделение']=pd.NA\n",
    "for i in range(len(new_Подразделение)):\n",
    "    new_Подразделение['new_Подразделение'][i]=f'Подразделение {i+1}'\n",
    "new_Подразделение=new_Подразделение[['Подразделение','new_Подразделение']]"
   ]
  },
  {
   "cell_type": "code",
   "execution_count": 41,
   "id": "a72b39a5",
   "metadata": {
    "scrolled": true
   },
   "outputs": [],
   "source": [
    "new_Клиент=df_all['Клиент'].value_counts().sort_index(ascending=True)\n",
    "new_Клиент=new_Клиент.reset_index()\n",
    "new_Клиент['new_Клиент']=pd.NA\n",
    "for i in range(len(new_Клиент)):\n",
    "    new_Клиент['new_Клиент'][i]=f'Клиент {i+1}'\n",
    "new_Клиент=new_Клиент[['Клиент','new_Клиент']]"
   ]
  },
  {
   "cell_type": "code",
   "execution_count": 42,
   "id": "0d93baca",
   "metadata": {},
   "outputs": [],
   "source": [
    "df_all=df_all.merge(new_Клиент, on='Клиент', how='left')"
   ]
  },
  {
   "cell_type": "code",
   "execution_count": 43,
   "id": "ff9b7298",
   "metadata": {},
   "outputs": [],
   "source": [
    "df_all=df_all.merge(new_Подразделение, on='Подразделение', how='left')"
   ]
  },
  {
   "cell_type": "code",
   "execution_count": 44,
   "id": "2dd073ed",
   "metadata": {},
   "outputs": [],
   "source": [
    "df_all=df_all[['Склад','Накладная','Описание вложения','Причина задержки','new_Подразделение','new_Клиент','Общий вес','Филиал']]"
   ]
  },
  {
   "cell_type": "code",
   "execution_count": 45,
   "id": "84387494",
   "metadata": {},
   "outputs": [],
   "source": [
    "df_all.rename(columns={'new_Накладная':'Накладная','new_Подразделение':'Подразделение','new_Клиент':'Клиент'},inplace=True)"
   ]
  },
  {
   "cell_type": "code",
   "execution_count": 46,
   "id": "b7efc6cd",
   "metadata": {},
   "outputs": [
    {
     "data": {
      "text/html": [
       "<div>\n",
       "<style scoped>\n",
       "    .dataframe tbody tr th:only-of-type {\n",
       "        vertical-align: middle;\n",
       "    }\n",
       "\n",
       "    .dataframe tbody tr th {\n",
       "        vertical-align: top;\n",
       "    }\n",
       "\n",
       "    .dataframe thead th {\n",
       "        text-align: right;\n",
       "    }\n",
       "</style>\n",
       "<table border=\"1\" class=\"dataframe\">\n",
       "  <thead>\n",
       "    <tr style=\"text-align: right;\">\n",
       "      <th></th>\n",
       "      <th>Склад</th>\n",
       "      <th>Накладная</th>\n",
       "      <th>Описание вложения</th>\n",
       "      <th>Причина задержки</th>\n",
       "      <th>Подразделение</th>\n",
       "      <th>Клиент</th>\n",
       "      <th>Общий вес</th>\n",
       "      <th>Филиал</th>\n",
       "    </tr>\n",
       "  </thead>\n",
       "  <tbody>\n",
       "    <tr>\n",
       "      <th>0</th>\n",
       "      <td>Мск</td>\n",
       "      <td>100354203****</td>\n",
       "      <td>химическое вещество</td>\n",
       "      <td>Необходим паспорт безопасности MSDS.</td>\n",
       "      <td>Подразделение 816</td>\n",
       "      <td>Клиент 6</td>\n",
       "      <td>2.8</td>\n",
       "      <td>ПВЗ</td>\n",
       "    </tr>\n",
       "    <tr>\n",
       "      <th>1</th>\n",
       "      <td>Мск</td>\n",
       "      <td>100355194****</td>\n",
       "      <td>духи</td>\n",
       "      <td>9 класс опасности.</td>\n",
       "      <td>Подразделение 830</td>\n",
       "      <td>Клиент 106</td>\n",
       "      <td>0.8</td>\n",
       "      <td>ПВЗ</td>\n",
       "    </tr>\n",
       "    <tr>\n",
       "      <th>2</th>\n",
       "      <td>Мск</td>\n",
       "      <td>100355955****</td>\n",
       "      <td>неизвестное вещество</td>\n",
       "      <td>Отправка авиа запрещена.</td>\n",
       "      <td>Подразделение 830</td>\n",
       "      <td>Клиент 40</td>\n",
       "      <td>3.29</td>\n",
       "      <td>ПВЗ</td>\n",
       "    </tr>\n",
       "    <tr>\n",
       "      <th>3</th>\n",
       "      <td>Мск</td>\n",
       "      <td>100354197****</td>\n",
       "      <td>акб</td>\n",
       "      <td>Отправка авиа запрещена.</td>\n",
       "      <td>Подразделение 874</td>\n",
       "      <td>Клиент 41</td>\n",
       "      <td>4.0</td>\n",
       "      <td>ПВЗ</td>\n",
       "    </tr>\n",
       "    <tr>\n",
       "      <th>4</th>\n",
       "      <td>Мск</td>\n",
       "      <td>100354856****</td>\n",
       "      <td>духи</td>\n",
       "      <td>9 класс опасности.</td>\n",
       "      <td>Подразделение 1190</td>\n",
       "      <td>Клиент 114</td>\n",
       "      <td>4.0</td>\n",
       "      <td>ПВЗ</td>\n",
       "    </tr>\n",
       "    <tr>\n",
       "      <th>5</th>\n",
       "      <td>Мск</td>\n",
       "      <td>100350237****</td>\n",
       "      <td>спирт</td>\n",
       "      <td>0</td>\n",
       "      <td>Подразделение 617</td>\n",
       "      <td>Клиент 101</td>\n",
       "      <td>5.0</td>\n",
       "      <td>ПВЗ</td>\n",
       "    </tr>\n",
       "    <tr>\n",
       "      <th>6</th>\n",
       "      <td>Мск</td>\n",
       "      <td>100353677****</td>\n",
       "      <td>газлифт</td>\n",
       "      <td></td>\n",
       "      <td>Подразделение 971</td>\n",
       "      <td>Клиент 103</td>\n",
       "      <td>1.0</td>\n",
       "      <td>ПВЗ</td>\n",
       "    </tr>\n",
       "    <tr>\n",
       "      <th>7</th>\n",
       "      <td>Мск</td>\n",
       "      <td>100353947****</td>\n",
       "      <td>аэрозоль</td>\n",
       "      <td>0</td>\n",
       "      <td>Подразделение 835</td>\n",
       "      <td>Клиент 135</td>\n",
       "      <td>0.68</td>\n",
       "      <td>Филиал</td>\n",
       "    </tr>\n",
       "    <tr>\n",
       "      <th>8</th>\n",
       "      <td>Мск</td>\n",
       "      <td>100353895****</td>\n",
       "      <td>духи</td>\n",
       "      <td>9 класс опасности.</td>\n",
       "      <td>Подразделение 1067</td>\n",
       "      <td>Клиент 176</td>\n",
       "      <td>2.94</td>\n",
       "      <td>ПВЗ</td>\n",
       "    </tr>\n",
       "    <tr>\n",
       "      <th>9</th>\n",
       "      <td>Мск</td>\n",
       "      <td>100348052****</td>\n",
       "      <td>акб</td>\n",
       "      <td>Отправка авиа запрещена.</td>\n",
       "      <td>Подразделение 696</td>\n",
       "      <td>Клиент 201</td>\n",
       "      <td>36.0</td>\n",
       "      <td>ПВЗ</td>\n",
       "    </tr>\n",
       "  </tbody>\n",
       "</table>\n",
       "</div>"
      ],
      "text/plain": [
       "  Склад      Накладная     Описание вложения  \\\n",
       "0   Мск  100354203****   химическое вещество   \n",
       "1   Мск  100355194****                  духи   \n",
       "2   Мск  100355955****  неизвестное вещество   \n",
       "3   Мск  100354197****                   акб   \n",
       "4   Мск  100354856****                  духи   \n",
       "5   Мск  100350237****                 спирт   \n",
       "6   Мск  100353677****               газлифт   \n",
       "7   Мск  100353947****              аэрозоль   \n",
       "8   Мск  100353895****                  духи   \n",
       "9   Мск  100348052****                   акб   \n",
       "\n",
       "                       Причина задержки       Подразделение      Клиент  \\\n",
       "0  Необходим паспорт безопасности MSDS.   Подразделение 816    Клиент 6   \n",
       "1                    9 класс опасности.   Подразделение 830  Клиент 106   \n",
       "2              Отправка авиа запрещена.   Подразделение 830   Клиент 40   \n",
       "3              Отправка авиа запрещена.   Подразделение 874   Клиент 41   \n",
       "4                    9 класс опасности.  Подразделение 1190  Клиент 114   \n",
       "5                                     0   Подразделение 617  Клиент 101   \n",
       "6                                         Подразделение 971  Клиент 103   \n",
       "7                                     0   Подразделение 835  Клиент 135   \n",
       "8                    9 класс опасности.  Подразделение 1067  Клиент 176   \n",
       "9              Отправка авиа запрещена.   Подразделение 696  Клиент 201   \n",
       "\n",
       "  Общий вес  Филиал  \n",
       "0       2.8     ПВЗ  \n",
       "1       0.8     ПВЗ  \n",
       "2      3.29     ПВЗ  \n",
       "3       4.0     ПВЗ  \n",
       "4       4.0     ПВЗ  \n",
       "5       5.0     ПВЗ  \n",
       "6       1.0     ПВЗ  \n",
       "7      0.68  Филиал  \n",
       "8      2.94     ПВЗ  \n",
       "9      36.0     ПВЗ  "
      ]
     },
     "execution_count": 46,
     "metadata": {},
     "output_type": "execute_result"
    }
   ],
   "source": [
    "df_all.head(10)"
   ]
  },
  {
   "cell_type": "markdown",
   "id": "4bb91759",
   "metadata": {},
   "source": [
    "## Предобрабатываем описание вложения"
   ]
  },
  {
   "cell_type": "markdown",
   "id": "c3b65702",
   "metadata": {},
   "source": [
    "**Приведем значения к нижнему регистру и удалим пробелы в начале слова**"
   ]
  },
  {
   "cell_type": "code",
   "execution_count": 47,
   "id": "27a36660",
   "metadata": {},
   "outputs": [],
   "source": [
    "df_all['Описание вложения']=df_all['Описание вложения'].str.lower()\n",
    "df_all['Причина задержки']=df_all['Причина задержки'].str.lower()\n",
    "df_all['Описание вложения'] = df_all['Описание вложения'].str.strip()"
   ]
  },
  {
   "cell_type": "markdown",
   "id": "c0f0242d",
   "metadata": {},
   "source": [
    "**Укрупняем группы**"
   ]
  },
  {
   "cell_type": "code",
   "execution_count": 48,
   "id": "51b14c36",
   "metadata": {},
   "outputs": [],
   "source": [
    "slovar_og= {\n",
    "    'ароматизатор':['ароматизатор','эфирные масла','эфирное масло','диффузор','ароматизаторъ'],\n",
    "    'неизвестное вещество':['неизвестное вещество','неизвестное вщество','неизвестная жидкость'],\n",
    "    'косметика 9 класс':['лак для ногтей','косметика','лаки в большом количестве'],\n",
    "    'духи':['духи','парфюм','парфюмерия'],\n",
    "     \"свеча\":['свеча','свечи'],\n",
    "     'гсм':['деталь со следами гсм','деталь в масле',' двс','двс','запчасть в масле','запчасть с гсм','бензобак',\n",
    "     'деталь ГСМ',' запчасть с запахом гсм', \" б/у запчасть\",'запчасть б/у','бу деталь','деталь в гсм','3апчасти','б/у запчасть'],\n",
    "     \"химическое вещество\":['химическое вещество','нужен пб','огнеопасное вещество','хим вещ-во','хим вещ-во ','удобрения',\n",
    "                           'огнеопасно','герметик','коррозийное вещество','химичекое вещество','лодка с клеем','химвещество'\n",
    "                           'емкости','емкость','хим.вещество','хим вещество'],\n",
    "     \"акб\":['акб','ибп','гидроакб','гидроаккумулятор','свинцово-кислотная акб',' акб'],\n",
    "     \"автохимия\":['автохимия',\"масло\",\"моторное масло\",'машинное масло'],\n",
    "     \"амортизатор\":['амортизаторы','амортизатор'],\n",
    "     'баллон':['баллон','баллончик','баллончики',\"огнетушитель\",'баллоны под давлением']\n",
    "\n",
    "    }"
   ]
  },
  {
   "cell_type": "code",
   "execution_count": 49,
   "id": "d50aa3a7",
   "metadata": {},
   "outputs": [],
   "source": [
    "for i in range(len(df_all)):\n",
    "    for key in slovar_og:\n",
    "        if df_all['Описание вложения'][i] in slovar_og[key]:\n",
    "            df_all['Описание вложения'][i]=key"
   ]
  },
  {
   "cell_type": "code",
   "execution_count": 50,
   "id": "bbbc0987",
   "metadata": {},
   "outputs": [],
   "source": [
    "dictionary_og=pd.read_excel('C:/Users/Natalya/Desktop/Отчеты по ОГ/Словарь ОГ.xlsx')"
   ]
  },
  {
   "cell_type": "code",
   "execution_count": 51,
   "id": "dd8d9f92",
   "metadata": {},
   "outputs": [],
   "source": [
    "df_all=df_all.merge(dictionary_og, on='Описание вложения', how='left')"
   ]
  },
  {
   "cell_type": "code",
   "execution_count": 52,
   "id": "e8670f72",
   "metadata": {},
   "outputs": [],
   "source": [
    "df_all=df_all[['Склад','Накладная','Описание вложения','причина задержки','Подразделение','Клиент','Общий вес','Филиал']]"
   ]
  },
  {
   "cell_type": "code",
   "execution_count": 53,
   "id": "1094945b",
   "metadata": {},
   "outputs": [],
   "source": [
    "df_all.rename(columns = {'причина задержки':'Причина задержки'}, inplace = True )"
   ]
  },
  {
   "cell_type": "markdown",
   "id": "6daae9f9",
   "metadata": {},
   "source": [
    "## Получаем итоговую таблицу для анализа данных."
   ]
  },
  {
   "cell_type": "code",
   "execution_count": 54,
   "id": "fe97fba5",
   "metadata": {},
   "outputs": [
    {
     "data": {
      "text/html": [
       "<div>\n",
       "<style scoped>\n",
       "    .dataframe tbody tr th:only-of-type {\n",
       "        vertical-align: middle;\n",
       "    }\n",
       "\n",
       "    .dataframe tbody tr th {\n",
       "        vertical-align: top;\n",
       "    }\n",
       "\n",
       "    .dataframe thead th {\n",
       "        text-align: right;\n",
       "    }\n",
       "</style>\n",
       "<table border=\"1\" class=\"dataframe\">\n",
       "  <thead>\n",
       "    <tr style=\"text-align: right;\">\n",
       "      <th></th>\n",
       "      <th>Склад</th>\n",
       "      <th>Накладная</th>\n",
       "      <th>Описание вложения</th>\n",
       "      <th>Причина задержки</th>\n",
       "      <th>Подразделение</th>\n",
       "      <th>Клиент</th>\n",
       "      <th>Общий вес</th>\n",
       "      <th>Филиал</th>\n",
       "    </tr>\n",
       "  </thead>\n",
       "  <tbody>\n",
       "    <tr>\n",
       "      <th>0</th>\n",
       "      <td>Мск</td>\n",
       "      <td>100354203****</td>\n",
       "      <td>химическое вещество</td>\n",
       "      <td>груз отстранен из-за отсутствия документов</td>\n",
       "      <td>Подразделение 816</td>\n",
       "      <td>Клиент 6</td>\n",
       "      <td>2.8</td>\n",
       "      <td>ПВЗ</td>\n",
       "    </tr>\n",
       "    <tr>\n",
       "      <th>1</th>\n",
       "      <td>Мск</td>\n",
       "      <td>100355194****</td>\n",
       "      <td>духи</td>\n",
       "      <td>груз отстранен из-за отсутствия надбавки за оп...</td>\n",
       "      <td>Подразделение 830</td>\n",
       "      <td>Клиент 106</td>\n",
       "      <td>0.8</td>\n",
       "      <td>ПВЗ</td>\n",
       "    </tr>\n",
       "    <tr>\n",
       "      <th>2</th>\n",
       "      <td>Мск</td>\n",
       "      <td>100355955****</td>\n",
       "      <td>неизвестное вещество</td>\n",
       "      <td>груз отстранен из-за ошибки в выборе транспорт...</td>\n",
       "      <td>Подразделение 830</td>\n",
       "      <td>Клиент 40</td>\n",
       "      <td>3.29</td>\n",
       "      <td>ПВЗ</td>\n",
       "    </tr>\n",
       "    <tr>\n",
       "      <th>3</th>\n",
       "      <td>Мск</td>\n",
       "      <td>100354197****</td>\n",
       "      <td>акб</td>\n",
       "      <td>груз отстранен из-за ошибки в выборе транспорт...</td>\n",
       "      <td>Подразделение 874</td>\n",
       "      <td>Клиент 41</td>\n",
       "      <td>4.0</td>\n",
       "      <td>ПВЗ</td>\n",
       "    </tr>\n",
       "    <tr>\n",
       "      <th>4</th>\n",
       "      <td>Мск</td>\n",
       "      <td>100354856****</td>\n",
       "      <td>духи</td>\n",
       "      <td>груз отстранен из-за отсутствия надбавки за оп...</td>\n",
       "      <td>Подразделение 1190</td>\n",
       "      <td>Клиент 114</td>\n",
       "      <td>4.0</td>\n",
       "      <td>ПВЗ</td>\n",
       "    </tr>\n",
       "    <tr>\n",
       "      <th>...</th>\n",
       "      <td>...</td>\n",
       "      <td>...</td>\n",
       "      <td>...</td>\n",
       "      <td>...</td>\n",
       "      <td>...</td>\n",
       "      <td>...</td>\n",
       "      <td>...</td>\n",
       "      <td>...</td>\n",
       "    </tr>\n",
       "    <tr>\n",
       "      <th>6021</th>\n",
       "      <td>Екб</td>\n",
       "      <td>100439281****</td>\n",
       "      <td>баллоны</td>\n",
       "      <td>запрещенный к перевозке груз</td>\n",
       "      <td>Подразделение 402</td>\n",
       "      <td>Клиент 3658</td>\n",
       "      <td>каждое 4,78 3</td>\n",
       "      <td>ПВЗ</td>\n",
       "    </tr>\n",
       "    <tr>\n",
       "      <th>6022</th>\n",
       "      <td>Екб</td>\n",
       "      <td>100444468****</td>\n",
       "      <td>аккумулятор</td>\n",
       "      <td>груз отстранен из-за ошибки в выборе транспорт...</td>\n",
       "      <td>Подразделение 376</td>\n",
       "      <td>Клиент 4186</td>\n",
       "      <td>6.7</td>\n",
       "      <td>ПВЗ</td>\n",
       "    </tr>\n",
       "    <tr>\n",
       "      <th>6023</th>\n",
       "      <td>Екб</td>\n",
       "      <td>100438551****</td>\n",
       "      <td>баллоны</td>\n",
       "      <td>запрещенный к перевозке груз</td>\n",
       "      <td>Подразделение 1951</td>\n",
       "      <td>Клиент 3084</td>\n",
       "      <td>по 32 кг</td>\n",
       "      <td>ПВЗ</td>\n",
       "    </tr>\n",
       "    <tr>\n",
       "      <th>6024</th>\n",
       "      <td>Екб</td>\n",
       "      <td>100457575****</td>\n",
       "      <td>хим. вещество</td>\n",
       "      <td>NaN</td>\n",
       "      <td>Подразделение 381</td>\n",
       "      <td>Клиент 4072</td>\n",
       "      <td>8.36</td>\n",
       "      <td>ПВЗ</td>\n",
       "    </tr>\n",
       "    <tr>\n",
       "      <th>6025</th>\n",
       "      <td>Екб</td>\n",
       "      <td>100459261****</td>\n",
       "      <td>химическое вещество</td>\n",
       "      <td>груз отстранен из-за отсутствия документов</td>\n",
       "      <td>Подразделение 377</td>\n",
       "      <td>Клиент 2048</td>\n",
       "      <td>2.25</td>\n",
       "      <td>ПВЗ</td>\n",
       "    </tr>\n",
       "  </tbody>\n",
       "</table>\n",
       "<p>6026 rows × 8 columns</p>\n",
       "</div>"
      ],
      "text/plain": [
       "     Склад      Накладная     Описание вложения  \\\n",
       "0      Мск  100354203****   химическое вещество   \n",
       "1      Мск  100355194****                  духи   \n",
       "2      Мск  100355955****  неизвестное вещество   \n",
       "3      Мск  100354197****                   акб   \n",
       "4      Мск  100354856****                  духи   \n",
       "...    ...            ...                   ...   \n",
       "6021   Екб  100439281****               баллоны   \n",
       "6022   Екб  100444468****           аккумулятор   \n",
       "6023   Екб  100438551****               баллоны   \n",
       "6024   Екб  100457575****         хим. вещество   \n",
       "6025   Екб  100459261****   химическое вещество   \n",
       "\n",
       "                                       Причина задержки       Подразделение  \\\n",
       "0            груз отстранен из-за отсутствия документов   Подразделение 816   \n",
       "1     груз отстранен из-за отсутствия надбавки за оп...   Подразделение 830   \n",
       "2     груз отстранен из-за ошибки в выборе транспорт...   Подразделение 830   \n",
       "3     груз отстранен из-за ошибки в выборе транспорт...   Подразделение 874   \n",
       "4     груз отстранен из-за отсутствия надбавки за оп...  Подразделение 1190   \n",
       "...                                                 ...                 ...   \n",
       "6021                       запрещенный к перевозке груз   Подразделение 402   \n",
       "6022  груз отстранен из-за ошибки в выборе транспорт...   Подразделение 376   \n",
       "6023                       запрещенный к перевозке груз  Подразделение 1951   \n",
       "6024                                                NaN   Подразделение 381   \n",
       "6025         груз отстранен из-за отсутствия документов   Подразделение 377   \n",
       "\n",
       "           Клиент      Общий вес Филиал  \n",
       "0        Клиент 6            2.8    ПВЗ  \n",
       "1      Клиент 106            0.8    ПВЗ  \n",
       "2       Клиент 40           3.29    ПВЗ  \n",
       "3       Клиент 41            4.0    ПВЗ  \n",
       "4      Клиент 114            4.0    ПВЗ  \n",
       "...           ...            ...    ...  \n",
       "6021  Клиент 3658  каждое 4,78 3    ПВЗ  \n",
       "6022  Клиент 4186            6.7    ПВЗ  \n",
       "6023  Клиент 3084       по 32 кг    ПВЗ  \n",
       "6024  Клиент 4072           8.36    ПВЗ  \n",
       "6025  Клиент 2048           2.25    ПВЗ  \n",
       "\n",
       "[6026 rows x 8 columns]"
      ]
     },
     "execution_count": 54,
     "metadata": {},
     "output_type": "execute_result"
    }
   ],
   "source": [
    "df_all"
   ]
  },
  {
   "cell_type": "markdown",
   "id": "a09ba288",
   "metadata": {},
   "source": [
    "# Анализ задержанных посылок с опасным грузом за октябрь"
   ]
  },
  {
   "cell_type": "code",
   "execution_count": 55,
   "id": "17f9fbbf",
   "metadata": {},
   "outputs": [
    {
     "data": {
      "text/plain": [
       "6026"
      ]
     },
     "execution_count": 55,
     "metadata": {},
     "output_type": "execute_result"
    }
   ],
   "source": [
    "df_all['Накладная'].count()"
   ]
  },
  {
   "cell_type": "markdown",
   "id": "6f12a233",
   "metadata": {},
   "source": [
    "**Всего за октябрь было задержано 6026 посылки с опасным грузом**"
   ]
  },
  {
   "cell_type": "markdown",
   "id": "47e7720a",
   "metadata": {},
   "source": [
    "**Рассмотрим распределение количества задержанных посылок в зависимости от города склада**"
   ]
  },
  {
   "cell_type": "code",
   "execution_count": 56,
   "id": "97a55755",
   "metadata": {},
   "outputs": [
    {
     "data": {
      "text/html": [
       "<div>\n",
       "<style scoped>\n",
       "    .dataframe tbody tr th:only-of-type {\n",
       "        vertical-align: middle;\n",
       "    }\n",
       "\n",
       "    .dataframe tbody tr th {\n",
       "        vertical-align: top;\n",
       "    }\n",
       "\n",
       "    .dataframe thead th {\n",
       "        text-align: right;\n",
       "    }\n",
       "</style>\n",
       "<table border=\"1\" class=\"dataframe\">\n",
       "  <thead>\n",
       "    <tr style=\"text-align: right;\">\n",
       "      <th></th>\n",
       "      <th>Склад</th>\n",
       "      <th>Накладная</th>\n",
       "    </tr>\n",
       "  </thead>\n",
       "  <tbody>\n",
       "    <tr>\n",
       "      <th>0</th>\n",
       "      <td>Екб</td>\n",
       "      <td>60</td>\n",
       "    </tr>\n",
       "    <tr>\n",
       "      <th>1</th>\n",
       "      <td>Мск</td>\n",
       "      <td>4918</td>\n",
       "    </tr>\n",
       "    <tr>\n",
       "      <th>2</th>\n",
       "      <td>Нск</td>\n",
       "      <td>102</td>\n",
       "    </tr>\n",
       "    <tr>\n",
       "      <th>3</th>\n",
       "      <td>Спб</td>\n",
       "      <td>946</td>\n",
       "    </tr>\n",
       "  </tbody>\n",
       "</table>\n",
       "</div>"
      ],
      "text/plain": [
       "  Склад  Накладная\n",
       "0   Екб         60\n",
       "1   Мск       4918\n",
       "2   Нск        102\n",
       "3   Спб        946"
      ]
     },
     "execution_count": 56,
     "metadata": {},
     "output_type": "execute_result"
    }
   ],
   "source": [
    "table=df_all.groupby(['Склад']).count()['Накладная']\n",
    "table=table.reset_index()\n",
    "table.sort_values('Накладная', ascending=False )\n",
    "table"
   ]
  },
  {
   "cell_type": "code",
   "execution_count": 57,
   "id": "5e67f1a2",
   "metadata": {},
   "outputs": [
    {
     "data": {
      "image/png": "[encoded data removed]",
      "text/plain": [
       "<Figure size 640x480 with 1 Axes>"
      ]
     },
     "metadata": {},
     "output_type": "display_data"
    }
   ],
   "source": [
    "df_all.groupby(['Склад']).count().plot(kind='pie', y='Накладная',autopct='%1.0f%%',\n",
    "       colors = ['m', 'turquoise', 'b','pink'],title='Количество задержанных посылок по городам',legend = False)\n",
    "plt.ylabel('')\n",
    "plt.show()"
   ]
  },
  {
   "cell_type": "markdown",
   "id": "0d94fa5d",
   "metadata": {},
   "source": [
    "- **Видим, что большая часть (82%) опасного груза принято в Москве, около 16% в Санкт-Петербурге. В Новосибирске 2% и в Екатеринбурге  1% от общего числа.**"
   ]
  },
  {
   "cell_type": "markdown",
   "id": "597388d2",
   "metadata": {},
   "source": [
    "**Рассмотрим отношение подразделений, которые относятся к филиалу и к пунктам выдачи.**"
   ]
  },
  {
   "cell_type": "code",
   "execution_count": 58,
   "id": "f68a6964",
   "metadata": {},
   "outputs": [
    {
     "name": "stdout",
     "output_type": "stream",
     "text": [
      "Филиал\n",
      "ПВЗ       5072\n",
      "Филиал     954\n",
      "Name: count, dtype: int64\n"
     ]
    }
   ],
   "source": [
    "table1=df_all['Филиал'].value_counts()\n",
    "print(table1)"
   ]
  },
  {
   "cell_type": "code",
   "execution_count": 59,
   "id": "3f387e5f",
   "metadata": {},
   "outputs": [
    {
     "data": {
      "image/png": "[encoded data removed]",
      "text/plain": [
       "<Figure size 640x480 with 1 Axes>"
      ]
     },
     "metadata": {},
     "output_type": "display_data"
    }
   ],
   "source": [
    "table1.plot(kind='pie',autopct='%1.1f%%',title = 'Количество принятых посылок с опасным грузом')\n",
    "plt.ylabel('')\n",
    "plt.show()\n"
   ]
  },
  {
   "cell_type": "markdown",
   "id": "8f53a297",
   "metadata": {},
   "source": [
    "**Видим, что большая часть опасного груза была принята на ПВЗ**\n"
   ]
  },
  {
   "cell_type": "markdown",
   "id": "a26ef086",
   "metadata": {},
   "source": [
    "## Рассмотрим самых популярных нарушителей"
   ]
  },
  {
   "cell_type": "markdown",
   "id": "91d73d1e",
   "metadata": {},
   "source": [
    "### Клиенты, которые отправили больше всего посылок с ОГ:"
   ]
  },
  {
   "cell_type": "code",
   "execution_count": 60,
   "id": "c80440e9",
   "metadata": {},
   "outputs": [],
   "source": [
    "table_client=df_all['Клиент'].value_counts()\n",
    "table_client=table_client.reset_index()\n",
    "table_client.rename(columns={'count':'Количество отправленных посылок с ОГ'}, inplace=True)"
   ]
  },
  {
   "cell_type": "code",
   "execution_count": 61,
   "id": "dd32c69d",
   "metadata": {},
   "outputs": [
    {
     "data": {
      "text/html": [
       "<div>\n",
       "<style scoped>\n",
       "    .dataframe tbody tr th:only-of-type {\n",
       "        vertical-align: middle;\n",
       "    }\n",
       "\n",
       "    .dataframe tbody tr th {\n",
       "        vertical-align: top;\n",
       "    }\n",
       "\n",
       "    .dataframe thead th {\n",
       "        text-align: right;\n",
       "    }\n",
       "</style>\n",
       "<table border=\"1\" class=\"dataframe\">\n",
       "  <thead>\n",
       "    <tr style=\"text-align: right;\">\n",
       "      <th></th>\n",
       "      <th>Клиент</th>\n",
       "      <th>Количество отправленных посылок с ОГ</th>\n",
       "    </tr>\n",
       "  </thead>\n",
       "  <tbody>\n",
       "    <tr>\n",
       "      <th>0</th>\n",
       "      <td>Клиент 895</td>\n",
       "      <td>98</td>\n",
       "    </tr>\n",
       "    <tr>\n",
       "      <th>1</th>\n",
       "      <td>Клиент 423</td>\n",
       "      <td>86</td>\n",
       "    </tr>\n",
       "    <tr>\n",
       "      <th>2</th>\n",
       "      <td>Клиент 836</td>\n",
       "      <td>68</td>\n",
       "    </tr>\n",
       "    <tr>\n",
       "      <th>3</th>\n",
       "      <td>Клиент 780</td>\n",
       "      <td>60</td>\n",
       "    </tr>\n",
       "    <tr>\n",
       "      <th>4</th>\n",
       "      <td>Клиент 2624</td>\n",
       "      <td>59</td>\n",
       "    </tr>\n",
       "    <tr>\n",
       "      <th>5</th>\n",
       "      <td>Клиент 846</td>\n",
       "      <td>45</td>\n",
       "    </tr>\n",
       "    <tr>\n",
       "      <th>6</th>\n",
       "      <td>Клиент 688</td>\n",
       "      <td>41</td>\n",
       "    </tr>\n",
       "    <tr>\n",
       "      <th>7</th>\n",
       "      <td>Клиент 723</td>\n",
       "      <td>40</td>\n",
       "    </tr>\n",
       "    <tr>\n",
       "      <th>8</th>\n",
       "      <td>Клиент 942</td>\n",
       "      <td>37</td>\n",
       "    </tr>\n",
       "    <tr>\n",
       "      <th>9</th>\n",
       "      <td>Клиент 653</td>\n",
       "      <td>27</td>\n",
       "    </tr>\n",
       "  </tbody>\n",
       "</table>\n",
       "</div>"
      ],
      "text/plain": [
       "        Клиент  Количество отправленных посылок с ОГ\n",
       "0   Клиент 895                                    98\n",
       "1   Клиент 423                                    86\n",
       "2   Клиент 836                                    68\n",
       "3   Клиент 780                                    60\n",
       "4  Клиент 2624                                    59\n",
       "5   Клиент 846                                    45\n",
       "6   Клиент 688                                    41\n",
       "7   Клиент 723                                    40\n",
       "8   Клиент 942                                    37\n",
       "9   Клиент 653                                    27"
      ]
     },
     "execution_count": 61,
     "metadata": {},
     "output_type": "execute_result"
    }
   ],
   "source": [
    "table_client.head(10)"
   ]
  },
  {
   "cell_type": "markdown",
   "id": "c435168a",
   "metadata": {},
   "source": [
    "### Подразделения, которые приняли больше всего посылок с ОГ:"
   ]
  },
  {
   "cell_type": "code",
   "execution_count": 62,
   "id": "192734ba",
   "metadata": {},
   "outputs": [
    {
     "data": {
      "text/html": [
       "<div>\n",
       "<style scoped>\n",
       "    .dataframe tbody tr th:only-of-type {\n",
       "        vertical-align: middle;\n",
       "    }\n",
       "\n",
       "    .dataframe tbody tr th {\n",
       "        vertical-align: top;\n",
       "    }\n",
       "\n",
       "    .dataframe thead th {\n",
       "        text-align: right;\n",
       "    }\n",
       "</style>\n",
       "<table border=\"1\" class=\"dataframe\">\n",
       "  <thead>\n",
       "    <tr style=\"text-align: right;\">\n",
       "      <th></th>\n",
       "      <th>Подразделение</th>\n",
       "      <th>Количество отправленных посылок с ОГ</th>\n",
       "    </tr>\n",
       "  </thead>\n",
       "  <tbody>\n",
       "    <tr>\n",
       "      <th>0</th>\n",
       "      <td>Подразделение 835</td>\n",
       "      <td>407</td>\n",
       "    </tr>\n",
       "    <tr>\n",
       "      <th>1</th>\n",
       "      <td>Подразделение 834</td>\n",
       "      <td>259</td>\n",
       "    </tr>\n",
       "    <tr>\n",
       "      <th>2</th>\n",
       "      <td>Подразделение 1637</td>\n",
       "      <td>122</td>\n",
       "    </tr>\n",
       "    <tr>\n",
       "      <th>3</th>\n",
       "      <td>Подразделение 1057</td>\n",
       "      <td>72</td>\n",
       "    </tr>\n",
       "    <tr>\n",
       "      <th>4</th>\n",
       "      <td>Подразделение 1238</td>\n",
       "      <td>56</td>\n",
       "    </tr>\n",
       "    <tr>\n",
       "      <th>5</th>\n",
       "      <td>Подразделение 354</td>\n",
       "      <td>49</td>\n",
       "    </tr>\n",
       "    <tr>\n",
       "      <th>6</th>\n",
       "      <td>Подразделение 1621</td>\n",
       "      <td>48</td>\n",
       "    </tr>\n",
       "    <tr>\n",
       "      <th>7</th>\n",
       "      <td>Подразделение 1147</td>\n",
       "      <td>46</td>\n",
       "    </tr>\n",
       "    <tr>\n",
       "      <th>8</th>\n",
       "      <td>Подразделение 1363</td>\n",
       "      <td>46</td>\n",
       "    </tr>\n",
       "    <tr>\n",
       "      <th>9</th>\n",
       "      <td>Подразделение 832</td>\n",
       "      <td>43</td>\n",
       "    </tr>\n",
       "  </tbody>\n",
       "</table>\n",
       "</div>"
      ],
      "text/plain": [
       "        Подразделение  Количество отправленных посылок с ОГ\n",
       "0   Подразделение 835                                   407\n",
       "1   Подразделение 834                                   259\n",
       "2  Подразделение 1637                                   122\n",
       "3  Подразделение 1057                                    72\n",
       "4  Подразделение 1238                                    56\n",
       "5   Подразделение 354                                    49\n",
       "6  Подразделение 1621                                    48\n",
       "7  Подразделение 1147                                    46\n",
       "8  Подразделение 1363                                    46\n",
       "9   Подразделение 832                                    43"
      ]
     },
     "execution_count": 62,
     "metadata": {},
     "output_type": "execute_result"
    }
   ],
   "source": [
    "table=df_all['Подразделение'].value_counts().head(10)\n",
    "table=table.reset_index()\n",
    "table.rename(columns={'count':'Количество отправленных посылок с ОГ'})"
   ]
  },
  {
   "cell_type": "markdown",
   "id": "7f42ac41",
   "metadata": {},
   "source": [
    "## Проанализируем вложения посылок"
   ]
  },
  {
   "cell_type": "markdown",
   "id": "f613275e",
   "metadata": {},
   "source": [
    "**Рассмотрим опасные грузы, которые встречаются чаще всего**"
   ]
  },
  {
   "cell_type": "code",
   "execution_count": 63,
   "id": "8e6084a3",
   "metadata": {},
   "outputs": [
    {
     "data": {
      "text/html": [
       "<div>\n",
       "<style scoped>\n",
       "    .dataframe tbody tr th:only-of-type {\n",
       "        vertical-align: middle;\n",
       "    }\n",
       "\n",
       "    .dataframe tbody tr th {\n",
       "        vertical-align: top;\n",
       "    }\n",
       "\n",
       "    .dataframe thead th {\n",
       "        text-align: right;\n",
       "    }\n",
       "</style>\n",
       "<table border=\"1\" class=\"dataframe\">\n",
       "  <thead>\n",
       "    <tr style=\"text-align: right;\">\n",
       "      <th></th>\n",
       "      <th>Описание вложения</th>\n",
       "      <th>count</th>\n",
       "    </tr>\n",
       "  </thead>\n",
       "  <tbody>\n",
       "    <tr>\n",
       "      <th>0</th>\n",
       "      <td>химическое вещество</td>\n",
       "      <td>1298</td>\n",
       "    </tr>\n",
       "    <tr>\n",
       "      <th>1</th>\n",
       "      <td>духи</td>\n",
       "      <td>1200</td>\n",
       "    </tr>\n",
       "    <tr>\n",
       "      <th>2</th>\n",
       "      <td>акб</td>\n",
       "      <td>833</td>\n",
       "    </tr>\n",
       "    <tr>\n",
       "      <th>3</th>\n",
       "      <td>неизвестное вещество</td>\n",
       "      <td>667</td>\n",
       "    </tr>\n",
       "    <tr>\n",
       "      <th>4</th>\n",
       "      <td>аэрозоль</td>\n",
       "      <td>421</td>\n",
       "    </tr>\n",
       "    <tr>\n",
       "      <th>5</th>\n",
       "      <td>косметика 9 класс</td>\n",
       "      <td>285</td>\n",
       "    </tr>\n",
       "    <tr>\n",
       "      <th>6</th>\n",
       "      <td>амортизатор</td>\n",
       "      <td>270</td>\n",
       "    </tr>\n",
       "    <tr>\n",
       "      <th>7</th>\n",
       "      <td>ароматизатор</td>\n",
       "      <td>198</td>\n",
       "    </tr>\n",
       "    <tr>\n",
       "      <th>8</th>\n",
       "      <td>свеча</td>\n",
       "      <td>73</td>\n",
       "    </tr>\n",
       "    <tr>\n",
       "      <th>9</th>\n",
       "      <td>подушка безопасности</td>\n",
       "      <td>70</td>\n",
       "    </tr>\n",
       "    <tr>\n",
       "      <th>10</th>\n",
       "      <td>гсм</td>\n",
       "      <td>66</td>\n",
       "    </tr>\n",
       "    <tr>\n",
       "      <th>11</th>\n",
       "      <td>автохимия</td>\n",
       "      <td>39</td>\n",
       "    </tr>\n",
       "    <tr>\n",
       "      <th>12</th>\n",
       "      <td>магнит</td>\n",
       "      <td>37</td>\n",
       "    </tr>\n",
       "    <tr>\n",
       "      <th>13</th>\n",
       "      <td>спирт</td>\n",
       "      <td>25</td>\n",
       "    </tr>\n",
       "    <tr>\n",
       "      <th>14</th>\n",
       "      <td>зажигалка</td>\n",
       "      <td>20</td>\n",
       "    </tr>\n",
       "    <tr>\n",
       "      <th>15</th>\n",
       "      <td>оружие</td>\n",
       "      <td>19</td>\n",
       "    </tr>\n",
       "    <tr>\n",
       "      <th>16</th>\n",
       "      <td>грелки</td>\n",
       "      <td>18</td>\n",
       "    </tr>\n",
       "    <tr>\n",
       "      <th>17</th>\n",
       "      <td>нож</td>\n",
       "      <td>17</td>\n",
       "    </tr>\n",
       "    <tr>\n",
       "      <th>18</th>\n",
       "      <td>консервы</td>\n",
       "      <td>15</td>\n",
       "    </tr>\n",
       "    <tr>\n",
       "      <th>19</th>\n",
       "      <td>клей</td>\n",
       "      <td>14</td>\n",
       "    </tr>\n",
       "  </tbody>\n",
       "</table>\n",
       "</div>"
      ],
      "text/plain": [
       "       Описание вложения  count\n",
       "0    химическое вещество   1298\n",
       "1                   духи   1200\n",
       "2                    акб    833\n",
       "3   неизвестное вещество    667\n",
       "4               аэрозоль    421\n",
       "5      косметика 9 класс    285\n",
       "6            амортизатор    270\n",
       "7           ароматизатор    198\n",
       "8                  свеча     73\n",
       "9   подушка безопасности     70\n",
       "10                   гсм     66\n",
       "11             автохимия     39\n",
       "12                магнит     37\n",
       "13                 спирт     25\n",
       "14             зажигалка     20\n",
       "15                оружие     19\n",
       "16                грелки     18\n",
       "17                   нож     17\n",
       "18              консервы     15\n",
       "19                  клей     14"
      ]
     },
     "execution_count": 63,
     "metadata": {},
     "output_type": "execute_result"
    }
   ],
   "source": [
    "inside=df_all['Описание вложения'].value_counts()\n",
    "inside=inside.reset_index()\n",
    "inside.head(20)"
   ]
  },
  {
   "cell_type": "code",
   "execution_count": 64,
   "id": "423fd317",
   "metadata": {},
   "outputs": [],
   "source": [
    "for i in range(len(inside)):\n",
    "    if  inside['count'][i] <50:\n",
    "        inside['Описание вложения'][i]='Другое'   "
   ]
  },
  {
   "cell_type": "code",
   "execution_count": 65,
   "id": "53935a6b",
   "metadata": {},
   "outputs": [
    {
     "data": {
      "image/png": "[encoded data removed]",
      "text/plain": [
       "<Figure size 640x480 with 1 Axes>"
      ]
     },
     "metadata": {},
     "output_type": "display_data"
    }
   ],
   "source": [
    "inside=inside.sort_values('count')\n",
    "plt.barh(inside['Описание вложения'], inside['count'], label='Основные типы ОГ') \n",
    "plt.xlabel('Количество посылок за месяц')\n",
    "plt.title('Популярные опасные вложения')\n",
    "plt.show()   "
   ]
  },
  {
   "cell_type": "markdown",
   "id": "b87416a7",
   "metadata": {},
   "source": [
    "**Изучаем причину задержки**"
   ]
  },
  {
   "cell_type": "code",
   "execution_count": 66,
   "id": "0ac84772",
   "metadata": {},
   "outputs": [
    {
     "data": {
      "text/html": [
       "<div>\n",
       "<style scoped>\n",
       "    .dataframe tbody tr th:only-of-type {\n",
       "        vertical-align: middle;\n",
       "    }\n",
       "\n",
       "    .dataframe tbody tr th {\n",
       "        vertical-align: top;\n",
       "    }\n",
       "\n",
       "    .dataframe thead th {\n",
       "        text-align: right;\n",
       "    }\n",
       "</style>\n",
       "<table border=\"1\" class=\"dataframe\">\n",
       "  <thead>\n",
       "    <tr style=\"text-align: right;\">\n",
       "      <th></th>\n",
       "      <th>Причина задержки</th>\n",
       "      <th>count</th>\n",
       "    </tr>\n",
       "  </thead>\n",
       "  <tbody>\n",
       "    <tr>\n",
       "      <th>0</th>\n",
       "      <td>груз отстранен из-за ошибки в выборе транспорт...</td>\n",
       "      <td>2140</td>\n",
       "    </tr>\n",
       "    <tr>\n",
       "      <th>1</th>\n",
       "      <td>груз отстранен из-за отсутствия надбавки за оп...</td>\n",
       "      <td>2112</td>\n",
       "    </tr>\n",
       "    <tr>\n",
       "      <th>2</th>\n",
       "      <td>груз отстранен из-за отсутствия документов</td>\n",
       "      <td>1441</td>\n",
       "    </tr>\n",
       "    <tr>\n",
       "      <th>3</th>\n",
       "      <td>запрещенный к перевозке груз</td>\n",
       "      <td>85</td>\n",
       "    </tr>\n",
       "    <tr>\n",
       "      <th>4</th>\n",
       "      <td>прочее</td>\n",
       "      <td>3</td>\n",
       "    </tr>\n",
       "  </tbody>\n",
       "</table>\n",
       "</div>"
      ],
      "text/plain": [
       "                                    Причина задержки  count\n",
       "0  груз отстранен из-за ошибки в выборе транспорт...   2140\n",
       "1  груз отстранен из-за отсутствия надбавки за оп...   2112\n",
       "2         груз отстранен из-за отсутствия документов   1441\n",
       "3                       запрещенный к перевозке груз     85\n",
       "4                                             прочее      3"
      ]
     },
     "execution_count": 66,
     "metadata": {},
     "output_type": "execute_result"
    }
   ],
   "source": [
    "reason=df_all['Причина задержки'].value_counts()\n",
    "reason=reason.reset_index()\n",
    "reason"
   ]
  },
  {
   "cell_type": "code",
   "execution_count": 67,
   "id": "cc866d69",
   "metadata": {},
   "outputs": [
    {
     "data": {
      "image/png": "[encoded data removed]",
      "text/plain": [
       "<Figure size 640x480 with 1 Axes>"
      ]
     },
     "metadata": {},
     "output_type": "display_data"
    }
   ],
   "source": [
    "df_all.groupby(['Причина задержки']).count().plot(kind='pie', y='Накладная',autopct='%1.0f%%',\n",
    "       colors = ['m', 'turquoise', 'b','pink','r'],title='Причина задержки',legend = False)\n",
    "plt.ylabel('')\n",
    "plt.show()"
   ]
  },
  {
   "cell_type": "markdown",
   "id": "f30b7600",
   "metadata": {},
   "source": [
    "**Видим, что 37% посылок были задержаны из-за отсутствия надбавки за опасный груз, 25% из-за отсутствия документов, 37% из-за ошибки в выборе транспортной схемы, около 1 % это запрещенный груз и прочее.**"
   ]
  },
  {
   "cell_type": "markdown",
   "id": "9629e841",
   "metadata": {},
   "source": [
    "## Сохраняем готовый отчёт"
   ]
  },
  {
   "cell_type": "code",
   "execution_count": 68,
   "id": "96c8fec3",
   "metadata": {},
   "outputs": [],
   "source": [
    "df_all.to_excel (r'C:/Users/Natalya/Desktop/Отчеты по ОГ/Готовый отчет2.xlsx', index= False )"
   ]
  },
  {
   "attachments": {},
   "cell_type": "markdown",
   "id": "994d3fd2",
   "metadata": {},
   "source": [
    "# Вывод\n",
    "\n",
    "\n",
    "- Всего за месяц было задержано 6026 посылки с опасным грузом.\n",
    "- Большая часть (82%) опасного груза принято в Москве, около 16% в Санкт-Петербурге. В Новосибирске 2% и в Екатеринбурге  1% от общего числа.\n",
    "- 85 % посылок с опасным грузом были приняты на ПВЗ.\n",
    "- ТОП-5 видов опасного вложения - это химическое вещество, духи, аккумуляторы, неизвестное вещество, аэрозоли.\n",
    "- 37% посылок были задержаны из-за отсутствия надбавки за опасный груз, 25% из-за отсутствия документов, 37% из-за ошибки в выборе транспортной схемы, около 1 % это запрещенный груз и прочее.\n"
   ]
  }
 ],
 "metadata": {
  "kernelspec": {
   "display_name": "Python 3 (ipykernel)",
   "language": "python",
   "name": "python3"
  },
  "language_info": {
   "codemirror_mode": {
    "name": "ipython",
    "version": 3
   },
   "file_extension": ".py",
   "mimetype": "text/x-python",
   "name": "python",
   "nbconvert_exporter": "python",
   "pygments_lexer": "ipython3",
   "version": "3.11.5"
  }
 },
 "nbformat": 4,
 "nbformat_minor": 5
}
